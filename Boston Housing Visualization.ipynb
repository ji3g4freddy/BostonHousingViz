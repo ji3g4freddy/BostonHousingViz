{
 "cells": [
  {
   "cell_type": "markdown",
   "metadata": {},
   "source": [
    "# Final Project: Boston Housing Visualization"
   ]
  },
  {
   "cell_type": "markdown",
   "metadata": {},
   "source": [
    "## Group Member:\n",
    "\n",
    "- MingFu Chou (mfchou2)\n",
    "- Ruonan Zhang (ruonanz2)\n",
    "- Shukai Yao (shukaiy2)\n",
    "- Ni Lin (nilin2)"
   ]
  },
  {
   "cell_type": "markdown",
   "metadata": {},
   "source": [
    "## Data Introduction\n",
    "\n",
    "- Dataset: City of Boston Assessing Department\n",
    "- File Name: ast2018full.csv\n",
    "- Data Source: Analyze Boston (City of Boston's open data hub)\n",
    "- Link: https://data.boston.gov/dataset/property-assessment\n",
    "- License: Open Data Commons Public Domain Dedication and License (PDDL) - \n",
    "- Data usage: PDDL is a document intended to allow you to freely share, modify, and use this work for any purpose and without any restrictions. \n",
    "- File Size: 54.1 MB"
   ]
  },
  {
   "cell_type": "markdown",
   "metadata": {},
   "source": [
    "**[Official description]** Gives property, or parcel, ownership together with value information, which ensures fair assessment of Boston taxable and non-taxable property of all types and classifications.\n",
    "\n",
    "This dataset contains detailed information of real estates in Boston area. There are 172841 rows, each row of the dataset represents an unique building. There are 75 columns, each column provides descritive information for buildings. \n",
    "There are **classification features** such as type of land used `LU` or type of structural `STRUCTURE_CLASS`, those features are returned as categorical variable; **descriptive features** such as total number of rooms `R_TOTAL_RMS` or total number of bath `R_FULL_BTH`, those features are returned as numerical variable; **condition descriptions** such as overall condition `R_OVRALL_CND` or interior finish `R_INT_FIN`, returned as categorical variable; **assessment value** such as total assessed value for property `AV_TOTAL` or total assessed land value `AV_LAND`, those features are returned as numerical variables.\n",
    "\n",
    "We are only using the residential properties of Boston in this dataset."
   ]
  },
  {
   "cell_type": "markdown",
   "metadata": {},
   "source": [
    "## Visualization Contents\n",
    " \n",
    "\n",
    "[Map for Boston Housing](#Map-for-Boston-Housing)\n",
    "\n",
    "- [Data Preprocessing](#Data-Preprocessing)\n",
    "\n",
    "- [Build Interaction](#Build-Interaction)\n",
    "\n",
    "- [Map function](#Map-function)\n",
    "\n",
    "- [Final Display](#Final-Display)\n",
    "\n",
    "- [Observations and summary](#Observations-and-summary)\n",
    "\n",
    "[Time Series Chart](#Time-Series-Visualization)\n",
    "\n",
    "- [Time Series Line Chart](#Time-Series-Line-Chart)\n",
    "\n",
    "- [Observations](#Observations-for-Line-Chart)\n",
    "\n",
    "- [Time Series Stacked Bar Chart](#Time-Series-Stacked-Bar-Chart)\n",
    "\n",
    "- [Observations](#Observations-for-Stacked-Bar-Chart)\n",
    "\n",
    "[Filter Scatter Chart](#Filter-Scatter-Chart)\n",
    "\n",
    "- [Observations](#Observations-by-Filter)\n"
   ]
  },
  {
   "cell_type": "markdown",
   "metadata": {},
   "source": [
    "----\n",
    "### Map for Boston Housing"
   ]
  },
  {
   "cell_type": "markdown",
   "metadata": {},
   "source": [
    "This is the map created for viewing Boston properties by zipcodes. User could select what kind of value they want to explore. The display is at the bottom, run all the codes before to pre-process the data for map."
   ]
  },
  {
   "cell_type": "code",
   "execution_count": 1,
   "metadata": {},
   "outputs": [],
   "source": [
    "import numpy as np\n",
    "import pandas as pd\n",
    "import matplotlib.pyplot as plt\n",
    "import matplotlib.ticker as mtick\n",
    "import ipywidgets as widgets\n",
    "from ipywidgets import interact, interactive, fixed, interact_manual\n",
    "import warnings\n",
    "warnings.filterwarnings('ignore')\n",
    "import json\n",
    "import folium\n",
    "from folium import plugins\n",
    "from branca.colormap import LinearColormap"
   ]
  },
  {
   "cell_type": "markdown",
   "metadata": {},
   "source": [
    "#### Data Preprocessing\n",
    "To load the Map, **run all the code cell below** to generate dataframe and geojson file for polygon objects."
   ]
  },
  {
   "cell_type": "code",
   "execution_count": 2,
   "metadata": {},
   "outputs": [],
   "source": [
    "BostonHousing = pd.read_csv('ast2018full.csv')"
   ]
  },
  {
   "cell_type": "code",
   "execution_count": 3,
   "metadata": {},
   "outputs": [],
   "source": [
    "#select only residential building\n",
    "BostonResidential = BostonHousing[BostonHousing['LU'].isin(['R1','R2','R3','R4'])].reset_index()\n",
    "#convert zip code into five digit zip\n",
    "BostonResidential['ZIPCODE'] = ['0'+str(int(i)) for i in BostonResidential['ZIPCODE']]\n",
    "#remove 0 value of year built and year remodel\n",
    "BostonResidential['YR_BUILT'] = BostonResidential[BostonResidential[\"YR_BUILT\"]!= 0]['YR_BUILT']\n",
    "BostonResidential['YR_REMOD'] = BostonResidential[BostonResidential[\"YR_BUILT\"]!= 0]['YR_REMOD']"
   ]
  },
  {
   "cell_type": "code",
   "execution_count": 4,
   "metadata": {},
   "outputs": [
    {
     "data": {
      "text/plain": [
       "2473509"
      ]
     },
     "execution_count": 4,
     "metadata": {},
     "output_type": "execute_result"
    }
   ],
   "source": [
    "#read in geojson file\n",
    "with open('ZIP_Codes.geojson','r') as jsonFile:\n",
    "    data = json.load(jsonFile)\n",
    "tmp = data\n",
    "\n",
    "#processing geojson file\n",
    "zip_name = list(BostonResidential['ZIPCODE'].unique())\n",
    "geozips = []\n",
    "zip_code_list = []\n",
    "for i in range(len(tmp['features'])):\n",
    "    if tmp['features'][i]['properties']['ZIP5'] in zip_name:\n",
    "        geozips.append(tmp['features'][i])\n",
    "        zip_code_list.append(tmp['features'][i]['properties']['ZIP5'])\n",
    "        \n",
    "new_json = {}\n",
    "new_json['type'] = 'FeatureCollection'\n",
    "new_json['features'] = geozips\n",
    "\n",
    "open('update-file.json','w').write(\n",
    "    json.dumps(new_json, sort_keys = True, indent = 4,\n",
    "              separators = (',',': ')))"
   ]
  },
  {
   "cell_type": "code",
   "execution_count": 5,
   "metadata": {},
   "outputs": [],
   "source": [
    "with open('update-file.json','r') as temp:\n",
    "    data = json.load(temp)\n",
    "geodata = data"
   ]
  },
  {
   "cell_type": "code",
   "execution_count": 6,
   "metadata": {},
   "outputs": [],
   "source": [
    "#numerical_selected = ['AV_BLDG','AV_TOTAL','AV_LAND','GROSS_TAX']\n",
    "#categorical_selected = ['LU','R_BLDG_STYL','R_OVRALL_CND']\n",
    "numerical_selected = ['Assessed building value',\n",
    "                      'Assessed property value',\n",
    "                      'Assessed land value',\n",
    "                      'Tax bill amount']\n",
    "categorical_selected = ['Land of Use',\n",
    "                       'Building style',\n",
    "                       'Overall condition']\n",
    "\n",
    "numerical_dict = {'AV_BLDG': 'Assessed building value',\n",
    "                  'AV_TOTAL': 'Assessed property value',\n",
    "                  'AV_LAND':'Assessed land value',\n",
    "                  'GROSS_TAX': 'Tax bill amount'}\n",
    "categorical_dict = {'LU':'Land of Use',\n",
    "                    'R_BLDG_STYL':'Building style',\n",
    "                    'R_OVRALL_CND':'Overall condition'}\n",
    "categorical_sub_dict = {\n",
    "    'LU':{'R1':'One-Family',\n",
    "          'R2':'Two-Family',\n",
    "          'R3':'Three-Family',\n",
    "          'R4':'Four or more'},\n",
    "    'R_BLDG_STYL':{'BL':'Bi-Level', 'DX':'Duplex', 'SL':'Split Level',\n",
    "            'BW':'Bungalow', 'L':'Tri-Level', 'TF':'Two-Family Stack',\n",
    "            'CL':'Colonial', 'OT':'Other', 'TD':'Tudor','TL':'TL',\n",
    "            'CN':'Contemporary', 'RE':'Row End', 'SD':'Semi-Detached',\n",
    "            'CP':'Cape', 'RM':'Row Middle', 'VT':'Victorian',\n",
    "            'CV':'Conventional', 'RN':'Ranch',\n",
    "            'DK':'Decker', 'RR':'Raised Ranch'},\n",
    "    'R_OVRALL_CND':{'A':'Average','E':'Excellent','F':'Fair',\n",
    "            'G': 'Good','P':'Poor'}}\n",
    "def get_key(dic,val):\n",
    "    return list(dic.keys())[list(dic.values()).index(val)]"
   ]
  },
  {
   "cell_type": "markdown",
   "metadata": {},
   "source": [
    "#### Build Interaction"
   ]
  },
  {
   "cell_type": "code",
   "execution_count": 7,
   "metadata": {},
   "outputs": [],
   "source": [
    "select_type_widgets = widgets.Dropdown(options=['Price Map','Explore Other Features'],value='Price Map',\n",
    "                                        description='Visual Type:',disabled=False)\n",
    "select_group_widgets = widgets.Dropdown(options=['Assessed building value'],value='Assessed building value',description='Visual Group:',disabled=False)\n",
    "select_cate_widgets = widgets.Dropdown(options=[' '],value=' ',description='Visual Group:',disabled=False)\n",
    "creat_map_button = widgets.Button(description='Generate Map',disabled=False,button_style='', \n",
    "                                    tooltip='Click to visualize selected data')\n",
    "Selection_type = widgets.Label()\n",
    "Group_type = widgets.Label()\n",
    "Cate_type = widgets.Label()\n",
    "out = widgets.Output()\n",
    "\n",
    "def selection_changed_1(event):\n",
    "    if event['new'] == 'Price Map':\n",
    "        select_group_widgets.options = numerical_selected\n",
    "        select_group_widgets.value = numerical_selected[0]\n",
    "        Selection_type.value = 'Price map is the average assessed value by Zipcode'\n",
    "        Cate_type.value = ' '\n",
    "        select_cate_widgets.options = ' '\n",
    "    elif event['new'] == 'Explore Other Features':\n",
    "        select_group_widgets.options = categorical_selected\n",
    "        select_group_widgets.value = categorical_selected[0]\n",
    "        Selection_type.value = 'View the number of building in different category'\n",
    "\n",
    "def selection_changed_2(event):\n",
    "    Group_type.value = ' '\n",
    "    if select_type_widgets.value != 'Price Map':\n",
    "        real_col_name = get_key(categorical_dict,event['new'])\n",
    "        drop_list = list(BostonResidential[real_col_name].unique())#Drop List is the real val in data\n",
    "        #Convert into option values in dictionary\n",
    "        option_list = [categorical_sub_dict[real_col_name][i]  for i in drop_list if str(i) != 'nan']\n",
    "        select_cate_widgets.options = option_list\n",
    "        select_cate_widgets.value = option_list[0]\n",
    "    else:\n",
    "        select_cate_widgets.options = ' '\n",
    "    \n",
    "def selection_changed_3(event):\n",
    "    Cate_type.value = 'Selected '+ str(event['new']) + ' out of '+str(select_group_widgets.value)\n",
    "    \n",
    "def creat_click(event):\n",
    "    select_type = select_type_widgets.value\n",
    "    if select_type == 'Price Map':\n",
    "        column = get_key(numerical_dict,select_group_widgets.value)\n",
    "        category = select_cate_widgets.value\n",
    "    else:\n",
    "        column = get_key(categorical_dict,select_group_widgets.value)\n",
    "        category =  get_key(categorical_sub_dict[column],select_cate_widgets.value)\n",
    "    with out:\n",
    "        from IPython.display import clear_output\n",
    "        clear_output(True)\n",
    "        m = creat_map(select_type,column,category)\n",
    "        display(m)\n",
    "        \n",
    "select_type_widgets.observe(selection_changed_1, 'value')\n",
    "select_group_widgets.observe(selection_changed_2, 'value')\n",
    "select_cate_widgets.observe(selection_changed_3, 'value')\n",
    "creat_map_button.on_click(creat_click)"
   ]
  },
  {
   "cell_type": "markdown",
   "metadata": {},
   "source": [
    "#### Map function\n",
    "\n",
    "This is the plotting function with package Folium"
   ]
  },
  {
   "cell_type": "code",
   "execution_count": 8,
   "metadata": {},
   "outputs": [],
   "source": [
    "def creat_map(select_type,column,category):\n",
    "    boston_geo = r'update-file.json'\n",
    "    \n",
    "    def count_distribution(df, location, subgroup):\n",
    "        group_counts = pd.DataFrame(df.groupby([location,subgroup]).size().unstack(1))\n",
    "        group_counts.reset_index(inplace = True)\n",
    "        return group_counts\n",
    "    def continuous_var(df,var_name):\n",
    "        group = df.groupby('ZIPCODE')[var_name].mean().reset_index()\n",
    "        #group.reset_index(inplace = True)\n",
    "        return group\n",
    "    \n",
    "    #dat = subgroup_distribution(BostonResidential,'ZIPCODE',column)\n",
    "    if column in numerical_dict.keys():\n",
    "        map_data = continuous_var(BostonResidential,column)\n",
    "        category = column\n",
    "    elif column in categorical_dict.keys():\n",
    "        map_data = count_distribution(BostonResidential,'ZIPCODE',column)[['ZIPCODE',category]].fillna(0)\n",
    "    #generate legent name\n",
    "    if select_type == 'Price Map':\n",
    "        legend = 'Average of ' + str(numerical_dict[column]) + ' by zipcode'\n",
    "    elif select_type == 'Explore Other Features':\n",
    "        legend = 'Number of residential buildings by zipcode. (' + str(categorical_dict[column]) \\\n",
    "                + '=' + str(categorical_sub_dict[column][category]) + ')'\n",
    "    map_dict = map_data.set_index('ZIPCODE')[category].to_dict()\n",
    "    \n",
    "    color_scale = LinearColormap(['yellow','green'], \n",
    "                                 vmin = min(map_dict.values()), \n",
    "                                 vmax = max(map_dict.values()))\n",
    "    color_scale.caption = legend\n",
    "    \n",
    "    def get_color(feature):\n",
    "        value = map_dict.get(feature['properties']['ZIP5'])\n",
    "        return color_scale(value)\n",
    "    \n",
    "    m = folium.Map(location = [42.3601,-71.0589], zoom_start = 11)\n",
    "    folium.GeoJson(data = geodata,\n",
    "            style_function = lambda feature: {\n",
    "            'fillColor': get_color(feature),\n",
    "            'fillOpacity': 0.5,\n",
    "            'color' : 'white',\n",
    "            'weight' : 0.7}).add_to(m)\n",
    "    m.add_child(color_scale)\n",
    "    return(m)"
   ]
  },
  {
   "cell_type": "markdown",
   "metadata": {},
   "source": [
    "#### Final Display\n",
    "\n",
    "In this Map, user could view a map of Boston, colored by different zipcode area. Two parts are provided for visualization: **Visual for Price** and **Visual for some other categorical features**. For price (assessment value) visual, the map would show the average level by zip code. For categorical variable, users could specify the level of variable of interest, the map would return the housing numbers by each zipcode under the selected level.\n",
    "\n",
    "Notice that the map would not automatically change with the selections. After altering the options, click 'Generate Map' to refresh."
   ]
  },
  {
   "cell_type": "code",
   "execution_count": 9,
   "metadata": {
    "scrolled": false
   },
   "outputs": [
    {
     "data": {
      "application/vnd.jupyter.widget-view+json": {
       "model_id": "490e7fabd76b4550ac7abbb51d212ffe",
       "version_major": 2,
       "version_minor": 0
      },
      "text/plain": [
       "VBox(children=(HBox(children=(VBox(children=(Dropdown(description='Visual Type:', options=('Price Map', 'Explo…"
      ]
     },
     "metadata": {},
     "output_type": "display_data"
    }
   ],
   "source": [
    "display(widgets.VBox([widgets.HBox([widgets.VBox([select_type_widgets,Selection_type]),\n",
    "                                    widgets.VBox([select_group_widgets,Group_type]),\n",
    "                                    widgets.VBox([select_cate_widgets,Cate_type])]),\n",
    "                      creat_map_button,out]))"
   ]
  },
  {
   "cell_type": "markdown",
   "metadata": {},
   "source": [
    "#### Observations and summary\n",
    "\n",
    "From the map, we observed that the center area (downtown) Boston has the highest assessed property value (a combination of Land value and Building value), which is of no surprise. But comparing the map between building value and land value, it is obvious that the difference between center and none-center area is not that obvious for building value, but is still siginicance for land value.\n",
    "\n",
    "From the map of categorical value `Land of Use`, after trying each level we observed that residential building in the south of Boston has lower family construction, which means there are more one-family buildings in the south. Four-family houses or more are popular in north. We think it means that there are more departments in the north, and more cottage in the south.\n",
    "\n",
    "From the map of categorical value `Overall Condition`, we found out that houses in downtown area has excellent condition -- which is expected. But some buildings around downtown area shows poor condition, we think it is because buildings in those area has longer history. But overall, residential buildings in the south has good condition, and are off lower estimated price."
   ]
  },
  {
   "cell_type": "markdown",
   "metadata": {},
   "source": [
    "----\n",
    "### Time Series Visualization\n",
    "\n",
    "In this part we concentrated on how features of buildings in Boston change with BuildYear"
   ]
  },
  {
   "cell_type": "markdown",
   "metadata": {},
   "source": [
    "#### Time Series Line Chart"
   ]
  },
  {
   "cell_type": "code",
   "execution_count": 10,
   "metadata": {},
   "outputs": [
    {
     "data": {
      "application/vnd.jupyter.widget-view+json": {
       "model_id": "682460bdf01a4484901c3b29b2a22e15",
       "version_major": 2,
       "version_minor": 0
      },
      "text/plain": [
       "interactive(children=(Dropdown(description='numeric', options=('AV_TOTAL', 'AV_LAND', 'AV_BLDG', 'GROSS_TAX', …"
      ]
     },
     "metadata": {},
     "output_type": "display_data"
    }
   ],
   "source": [
    "@widgets.interact(numeric = [\"AV_TOTAL\", \"AV_LAND\", \"AV_BLDG\", \"GROSS_TAX\", \"LAND_SF\",  \"GROSS_AREA\", \"LIVING_AREA\"],\n",
    "                  categorical = [\"R_BLDG_STYL\", \"R_ROOF_TYP\", \"R_HEAT_TYP\", \"R_AC\", \"R_OVRALL_CND\", \"R_VIEW\", \"LU\"],\n",
    "                  year = [\"YR_BUILT\", \"YR_REMOD\"])\n",
    "\n",
    "def get_line(numeric, categorical, year):\n",
    "    plt.figure(figsize=(20,10))\n",
    "    for l in list(BostonResidential[categorical].unique()):\n",
    "        plt.plot(BostonResidential[BostonResidential[categorical]== l].groupby(year)[numeric].mean())\n",
    "    plt.xlabel(year)\n",
    "    plt.ylabel(numeric)\n",
    "    plt.legend(loc='upper left', labels = list(BostonResidential[categorical].unique()))"
   ]
  },
  {
   "cell_type": "markdown",
   "metadata": {},
   "source": [
    "#### Observations for Line Chart\n",
    "From the time series graph with default label \"AV_TOTAL\", \"R_BLDG_STYL\", \"YR_BUILT\" we can see the mean price change over the year clearly. By adding the filter of categorical data, we can also compare the mean price for different style of buildings. By choosing the mean instead of sum is to eliminate the situation of different numbers of building is built in different year. And in the graph we can see that the building type of RM(Row Middle) and VT(Victorian) tend to have higher price than other buildings.\n",
    "\n",
    "If we change the categorical filter to R_OVRALL_CND, it will be more clear that the building with Excellent overall condition tends to have higher price than the other condition. And the buildings with Excellent type was first built around 1800. And we can also observe that, the average price of buildings with excellent overall condition becomes higher in recent year."
   ]
  },
  {
   "cell_type": "markdown",
   "metadata": {},
   "source": [
    "#### Time Series Stacked Bar Chart"
   ]
  },
  {
   "cell_type": "code",
   "execution_count": 11,
   "metadata": {},
   "outputs": [
    {
     "data": {
      "application/vnd.jupyter.widget-view+json": {
       "model_id": "d6a6b859146b4ea69882f427d903ba0d",
       "version_major": 2,
       "version_minor": 0
      },
      "text/plain": [
       "interactive(children=(Dropdown(description='numeric', options=('COUNT', 'AV_LAND', 'AV_BLDG', 'AV_TOTAL', 'GRO…"
      ]
     },
     "metadata": {},
     "output_type": "display_data"
    }
   ],
   "source": [
    "@widgets.interact(numeric = [\"COUNT\", \"AV_LAND\", \"AV_BLDG\",\"AV_TOTAL\", \"GROSS_TAX\", \"LAND_SF\",  \"GROSS_AREA\", \"LIVING_AREA\"],\n",
    "                  categorical = [\"R_AC\", \"R_OVRALL_CND\", \"R_BLDG_STYL\", \"R_ROOF_TYP\", \"R_HEAT_TYP\", \"R_VIEW\", \"LU\"],\n",
    "                  year = [\"YR_REMOD\", \"YR_BUILT\"],\n",
    "                  present = [\"%\", \"value\"])\n",
    "\n",
    "\n",
    "def get_bar(numeric, categorical, year, present):\n",
    "    if numeric == \"COUNT\":\n",
    "        bar = BostonResidential.groupby([year,categorical]).size()\n",
    "    else:\n",
    "        bar = BostonResidential.groupby([year,categorical])[numeric].mean()\n",
    "    if present == \"%\":\n",
    "        bar.groupby(level=0).apply(\n",
    "            lambda x: 100 * x / x.sum()\n",
    "        ).unstack().plot(kind='bar',stacked=True, figsize = (20, 10))\n",
    "        plt.gca().yaxis.set_major_formatter(mtick.PercentFormatter())\n",
    "    else:\n",
    "        bar.unstack().plot(kind='bar',stacked=True, figsize = (20, 10))\n",
    "    plt.show()"
   ]
  },
  {
   "cell_type": "markdown",
   "metadata": {},
   "source": [
    "#### Observations for Stacked Bar Chart\n",
    "For the stacked bar chart, we add a new label called \"COUNT\", which can help us see clearly about the building type change. In the defualt setting, we set the year \"YR_REMOD\", and categorical \"R_AC\", we can clearly see that the recent remodel building are more likely to equip Central A/C. So does the \"R_OVRALL_CND\", recent remodel building tend to be excellent overall condition. But this trend is not be copied to the Overall View."
   ]
  },
  {
   "cell_type": "markdown",
   "metadata": {},
   "source": [
    "----\n",
    "### Filter Scatter Chart "
   ]
  },
  {
   "cell_type": "code",
   "execution_count": 12,
   "metadata": {},
   "outputs": [],
   "source": [
    "import collections\n",
    "import ipywidgets\n",
    "import bqplot"
   ]
  },
  {
   "cell_type": "code",
   "execution_count": 13,
   "metadata": {},
   "outputs": [],
   "source": [
    "BostonHousing['TotalBath']=BostonHousing['R_FULL_BTH']*1+0.5*BostonHousing['R_HALF_BTH']"
   ]
  },
  {
   "cell_type": "code",
   "execution_count": 14,
   "metadata": {
    "scrolled": true
   },
   "outputs": [
    {
     "data": {
      "text/plain": [
       "count    1.678610e+05\n",
       "mean     3.560676e+03\n",
       "std      2.566108e+04\n",
       "min      0.000000e+00\n",
       "25%      6.750000e+02\n",
       "50%      1.293000e+03\n",
       "75%      2.434000e+03\n",
       "max      1.940476e+06\n",
       "Name: LIVING_AREA, dtype: float64"
      ]
     },
     "execution_count": 14,
     "metadata": {},
     "output_type": "execute_result"
    }
   ],
   "source": [
    "BostonHousing.groupby('TotalBath').count()   ##24[0.....13.5,21]\n",
    "BostonHousing.groupby('R_BDRMS').count()  ####18[0:18]\n",
    "BostonHousing['LIVING_AREA'].describe() #####[0:25542][1598:3190]"
   ]
  },
  {
   "cell_type": "code",
   "execution_count": 15,
   "metadata": {
    "scrolled": true
   },
   "outputs": [
    {
     "data": {
      "application/vnd.jupyter.widget-view+json": {
       "model_id": "77476993be324229a6252a549aea189a",
       "version_major": 2,
       "version_minor": 0
      },
      "text/plain": [
       "interactive(children=(Dropdown(description='Style', options=('RE', 'CL', 'CV', 'BL', 'DX', 'SL', 'BW', 'OT', '…"
      ]
     },
     "metadata": {},
     "output_type": "display_data"
    }
   ],
   "source": [
    "@ipywidgets.interact(Style = ['RE','CL','CV','BL', 'DX', 'SL','BW', \n",
    "                               'OT', 'TD','TL', 'RM','CN',  'TF',\n",
    "                              'SD', 'CP', 'L', 'VT',  'RN',\n",
    "                              'DK','RR'],\n",
    "                    Condition=['A','E','F','G','P'],\n",
    "                    LU = ['R1', 'R2', 'R3', 'R4'],\n",
    "                    bedroommin = (0.0, 18, 1.0), bedroommax = (0.0, 18.0, 1.0),\n",
    "                    bathroommin = (0.0, 24.0, 0.5), bathroommax = (0.0, 24.0, 0.5),\n",
    "                    areamin =   (0.0, 25542, 54),   areamax= (0.0, 25542, 54))\n",
    "def get_scatter(Style, Condition,LU, bedroommin,bedroommax,bathroommin,bathroommax, areamin, areamax):\n",
    "\n",
    "   \n",
    "    x_sc = bqplot.LinearScale()\n",
    "    y_sc = bqplot.LinearScale()\n",
    "    \n",
    "    \n",
    "    x_ax = bqplot.Axis(scale = x_sc, label = 'YR_BUILT')\n",
    "    y_ax = bqplot.Axis(scale = y_sc, label = 'AV_BLDG', orientation = 'vertical')\n",
    "    \n",
    "    \n",
    "    tooltip = bqplot.Tooltip(fields = [\"x\", \"y\"])\n",
    "    \n",
    "    #filter data\n",
    "    new_df = BostonHousing[BostonHousing['R_BLDG_STYL']==Style] \n",
    "    rnew_df = new_df[new_df['R_OVRALL_CND']==Condition] \n",
    "    renew1_df = rnew_df[rnew_df['LU']==LU] \n",
    "    renew2_df = renew1_df[(renew1_df['TotalBath']>=bedroommin) & (renew1_df['TotalBath']<=bedroommax)]\n",
    "    renew3_df = renew2_df[(renew2_df['R_BDRMS']>=bathroommin) & (renew2_df['R_BDRMS']<=bathroommax)]\n",
    "    renew_df = renew3_df[(renew3_df['LIVING_AREA']>=areamin) & (renew3_df['LIVING_AREA']<=areamax)]\n",
    "    \n",
    "    scatters = bqplot.Scatter(x = renew_df['YR_BUILT'],\n",
    "                              y = renew_df['AV_BLDG'],                           \n",
    "                              scales = {'x': x_sc, 'y': y_sc },\n",
    "                              tooltip = tooltip)\n",
    "\n",
    "    selector = bqplot.interacts.FastIntervalSelector(\n",
    "            scale = x_sc, marks = [scatters])\n",
    "    fig = bqplot.Figure(marks = [scatters], axes = [x_ax, y_ax], interaction = selector)\n",
    "    tb = bqplot.Toolbar(figure=fig)\n",
    "    \n",
    "\n",
    "    display(ipywidgets.VBox([fig, tb]))"
   ]
  },
  {
   "cell_type": "markdown",
   "metadata": {},
   "source": [
    "#### Observations by Filter\n",
    "\n",
    "For this Filter Scatter Chart, we aim to help user find out the house meets their demand.  For the categorical variables, we focus more on the type, condition and the type of property when we search the information of one housing. And for numerical variables, we consider the living area, the number of the bathroom and the number of the bedroom more. Therefore set three labels and six sliders to help user do filter. For the number of bathrooms, even though it ranges from zero to twenty-one, most buildings have two to eight bathrooms. So the figure maybe has no change when move the max number of bathroom. For the number of bedrooms, it ranges from 0 to eight, but most of buildings have two to eleven bedrooms. And the range of living area ranges from 0 to 25542, while the living area for most buildings range from 1598 to 3190. In the scatter chart we can see all the houses which meet our basic demand. And the tool tip shows the built year and sale price of each house. "
   ]
  },
  {
   "cell_type": "code",
   "execution_count": null,
   "metadata": {},
   "outputs": [],
   "source": []
  }
 ],
 "metadata": {
  "kernelspec": {
   "display_name": "Environment (conda_is590dv-default)",
   "language": "python",
   "name": "conda_is590dv-default"
  },
  "language_info": {
   "codemirror_mode": {
    "name": "ipython",
    "version": 3
   },
   "file_extension": ".py",
   "mimetype": "text/x-python",
   "name": "python",
   "nbconvert_exporter": "python",
   "pygments_lexer": "ipython3",
   "version": "3.6.6"
  }
 },
 "nbformat": 4,
 "nbformat_minor": 2
}
